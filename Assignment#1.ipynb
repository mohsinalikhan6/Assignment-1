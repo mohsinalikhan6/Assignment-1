{
 "cells": [
  {
   "cell_type": "code",
   "execution_count": 15,
   "id": "38cb33d7",
   "metadata": {},
   "outputs": [
    {
     "name": "stdout",
     "output_type": "stream",
     "text": [
      "Twinkle,twinkle, little star,\n",
      " \tHow I wonder what you are! \n",
      "\t\tUp above the world so high,\n",
      "\t\tLike a diamond in the sky.\n",
      "Twinkle,twinkle,little star,\n",
      "\tHow I Wonder what you are\n"
     ]
    }
   ],
   "source": [
    "# Q1: Print String in a specific format?\n",
    "print(\"Twinkle,twinkle, little star,\\n \\tHow I wonder what you are! \\n\\t\\tUp above the world so high,\\n\\t\\tLike a diamond in the sky.\\nTwinkle,twinkle,little star,\\n\\tHow I Wonder what you are\")"
   ]
  },
  {
   "cell_type": "code",
   "execution_count": 16,
   "id": "db491aee",
   "metadata": {},
   "outputs": [
    {
     "name": "stdout",
     "output_type": "stream",
     "text": [
      "The version of Python is:\n",
      " 3.8.8 (default, Apr 13 2021, 15:08:03) [MSC v.1916 64 bit (AMD64)]\n"
     ]
    }
   ],
   "source": [
    "# Q2: Get Python version you are using?\n",
    "import sys\n",
    "print(\"The version of Python is:\\n\",sys.version)"
   ]
  },
  {
   "cell_type": "code",
   "execution_count": 7,
   "id": "5f792e7e",
   "metadata": {},
   "outputs": [
    {
     "name": "stdout",
     "output_type": "stream",
     "text": [
      "21-12-29 16:22:44\n",
      "The Date is: 29-12-21\n",
      "The Time is: 16:22:44\n"
     ]
    }
   ],
   "source": [
    "# Q3: Display current Date and Time?\n",
    "import datetime\n",
    "today = datetime.datetime.today()\n",
    "print(today.strftime(\"%y-%m-%d %H:%M:%S\"))\n",
    "print('The Date is:',today.strftime(\"%d-%m-%y\"))\n",
    "print('The Time is:',today.strftime(\"%H:%M:%S\"))"
   ]
  },
  {
   "cell_type": "code",
   "execution_count": 4,
   "id": "42a9954b",
   "metadata": {},
   "outputs": [
    {
     "name": "stdout",
     "output_type": "stream",
     "text": [
      "Enter the radius of circle = 1.1\n",
      "Area of Circle is : 3.8013271108436504\n"
     ]
    }
   ],
   "source": [
    "# Q4: Input Area from User and Calculate the Radius of the Circle\n",
    "from math import pi\n",
    "r = float(input(\"Enter the radius of circle = \"))\n",
    "#formula of Area\n",
    "a = pi*r**2\n",
    "print(\"Area of Circle is :\",a)"
   ]
  },
  {
   "cell_type": "code",
   "execution_count": 5,
   "id": "af76ed48",
   "metadata": {},
   "outputs": [
    {
     "name": "stdout",
     "output_type": "stream",
     "text": [
      "Enter First Name: Mohsin\n",
      "Enter Last Name: Ali\n",
      "Your Name in Reverse Order is: Ali Mohsin\n"
     ]
    }
   ],
   "source": [
    "# Q5: Input user FirstName and LastName and Print them in Reverse Order?\n",
    "fname= input(\"Enter First Name: \")\n",
    "lname = input(\"Enter Last Name: \")\n",
    "print(\"Your Name in Reverse Order is:\",lname , fname)"
   ]
  },
  {
   "cell_type": "code",
   "execution_count": 6,
   "id": "8f68c34d",
   "metadata": {},
   "outputs": [
    {
     "name": "stdout",
     "output_type": "stream",
     "text": [
      "Enter First Number 65\n",
      "Enter Second Number 56\n",
      "Total Sum is: 121\n"
     ]
    }
   ],
   "source": [
    "# Q6: Take two Input from User and then addtion it?\n",
    "first = int(input(\"Enter First Number \"))\n",
    "second = int(input(\"Enter Second Number \"))\n",
    "print('Total Sum is:',first + second)"
   ]
  },
  {
   "cell_type": "code",
   "execution_count": null,
   "id": "17bdf143",
   "metadata": {},
   "outputs": [],
   "source": []
  }
 ],
 "metadata": {
  "kernelspec": {
   "display_name": "Python 3",
   "language": "python",
   "name": "python3"
  },
  "language_info": {
   "codemirror_mode": {
    "name": "ipython",
    "version": 3
   },
   "file_extension": ".py",
   "mimetype": "text/x-python",
   "name": "python",
   "nbconvert_exporter": "python",
   "pygments_lexer": "ipython3",
   "version": "3.8.8"
  }
 },
 "nbformat": 4,
 "nbformat_minor": 5
}
